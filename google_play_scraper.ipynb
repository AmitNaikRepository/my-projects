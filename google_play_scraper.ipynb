{
  "nbformat": 4,
  "nbformat_minor": 0,
  "metadata": {
    "colab": {
      "name": "google-play-scraper.ipynb",
      "provenance": [],
      "collapsed_sections": [],
      "authorship_tag": "ABX9TyNsyeSMvPEDCiN4ElT7IKHG",
      "include_colab_link": true
    },
    "kernelspec": {
      "name": "python3",
      "display_name": "Python 3"
    }
  },
  "cells": [
    {
      "cell_type": "markdown",
      "metadata": {
        "id": "view-in-github",
        "colab_type": "text"
      },
      "source": [
        "<a href=\"https://colab.research.google.com/github/AmitNaikRepository/my-projects/blob/master/google_play_scraper.ipynb\" target=\"_parent\"><img src=\"https://colab.research.google.com/assets/colab-badge.svg\" alt=\"Open In Colab\"/></a>"
      ]
    },
    {
      "cell_type": "code",
      "metadata": {
        "id": "X1FiOtALM731",
        "colab_type": "code",
        "outputId": "6643d50a-bc6d-40fc-d9f9-f778108e9268",
        "colab": {
          "base_uri": "https://localhost:8080/",
          "height": 207
        }
      },
      "source": [
        "!pip install google-play-scraper\n"
      ],
      "execution_count": 0,
      "outputs": [
        {
          "output_type": "stream",
          "text": [
            "Collecting google-play-scraper\n",
            "\u001b[?25l  Downloading https://files.pythonhosted.org/packages/cb/89/bc7279683a9224dc4239dc642a6cf2ce8a103d7f27a2ab69a8311d391777/google-play-scraper-0.0.2.2.tar.gz (42kB)\n",
            "\r\u001b[K     |███████▋                        | 10kB 16.7MB/s eta 0:00:01\r\u001b[K     |███████████████▎                | 20kB 2.1MB/s eta 0:00:01\r\u001b[K     |███████████████████████         | 30kB 2.6MB/s eta 0:00:01\r\u001b[K     |██████████████████████████████▋ | 40kB 2.1MB/s eta 0:00:01\r\u001b[K     |████████████████████████████████| 51kB 1.9MB/s \n",
            "\u001b[?25hBuilding wheels for collected packages: google-play-scraper\n",
            "  Building wheel for google-play-scraper (setup.py) ... \u001b[?25l\u001b[?25hdone\n",
            "  Created wheel for google-play-scraper: filename=google_play_scraper-0.0.2.2-cp36-none-any.whl size=20150 sha256=fd6493218a0038762e8b2b5fc24fc242679ab8ec853b908cfba06fbb2754cf27\n",
            "  Stored in directory: /root/.cache/pip/wheels/60/ea/76/4d334df912fc389dbf6e9932eff3c01334a3f49500129b9fc7\n",
            "Successfully built google-play-scraper\n",
            "Installing collected packages: google-play-scraper\n",
            "Successfully installed google-play-scraper-0.0.2.2\n"
          ],
          "name": "stdout"
        }
      ]
    },
    {
      "cell_type": "code",
      "metadata": {
        "id": "mXq1VFRRM6fS",
        "colab_type": "code",
        "outputId": "6337a448-9a07-487f-eb0a-a238e87a0405",
        "colab": {
          "base_uri": "https://localhost:8080/",
          "height": 54
        }
      },
      "source": [
        "from google_play_scraper import Sort, reviews\n",
        "\n",
        "result = reviews(\n",
        "    'com.nianticlabs.pokemongo',\n",
        "    lang='en', # defaults to 'en'\n",
        "    country='us', # defaults to 'us'\n",
        "    sort=Sort.MOST_RELEVANT, # defaults to Sort.MOST_RELEVANT\n",
        "    count=3, # defaults to 100\n",
        ")\n",
        "\n",
        "print(result)"
      ],
      "execution_count": 0,
      "outputs": [
        {
          "output_type": "stream",
          "text": [
            "[{'userName': 'gillian begley', 'userImage': 'https://lh3.googleusercontent.com/a-/AOh14Gg9mVRu8LlhKRsn8eTqD2FaPGvWVt1QMC31CFUb', 'content': \"The game DOES suffer some glitches and issues here and there- BUT, nothing too major (that's all I have to say about the functionality) The game it's self is one of the best things I've ever taken the time to download, honestly. It's obvious that a lot of time and care has gone into the whole thing from the very beginning, and I think it's really done a lot to bring people and communities together in a real special way. Pokemon Go is, in my opinion, an absolute gift <3\", 'score': 5, 'thumbsUpCount': 402, 'reviewCreatedVersion': '0.171.3', 'at': datetime.datetime(2020, 4, 7, 2, 39, 29), 'replyContent': None, 'repliedAt': None}, {'userName': 'Jordan Sales', 'userImage': 'https://lh3.googleusercontent.com/a-/AOh14Gh2L69cbaVMsyIcu3Dl-Xg02s-NO0uSH_bO9bVl', 'content': \"It's grown into what I should've been to begin with. There's so much more to do compared to the initial release, 5 gens of Pokémon so far with more being released in events and as time goes by. Tons of challenges, raids, ways to battle both pve and PvP. While the trading still sucks most of the friend features are great. For someone beginning, believe me, you've got a lot to catch up on, no pun intended.\", 'score': 5, 'thumbsUpCount': 59, 'reviewCreatedVersion': '0.171.3', 'at': datetime.datetime(2020, 4, 7, 3, 11, 57), 'replyContent': None, 'repliedAt': None}, {'userName': 'Flib666', 'userImage': 'https://lh3.googleusercontent.com/a-/AOh14GhoU96dxq6Hoznr9GKMubxTMxR355jifiOf_J5UPw', 'content': \"Pretty good! I play this pretty much everyday and i have alot of fun doing so! Its a shame it takes up so much battery and space on your phone. One of my friends has this on their phone but it's really slow and wont work very well :( i do wish that you could refund clothes etc. and get your pokécoins back, and that storage was a little bit cheaper. Other than that (and some other smaller details) i really recommend this game!\", 'score': 4, 'thumbsUpCount': 153, 'reviewCreatedVersion': '0.171.3', 'at': datetime.datetime(2020, 4, 6, 21, 46, 40), 'replyContent': None, 'repliedAt': None}]\n"
          ],
          "name": "stdout"
        }
      ]
    },
    {
      "cell_type": "code",
      "metadata": {
        "id": "I-8M8flwR5ow",
        "colab_type": "code",
        "outputId": "b59a9de4-5188-41ef-8d31-06737c63c041",
        "colab": {
          "base_uri": "https://localhost:8080/",
          "height": 105
        }
      },
      "source": [
        "for data in result:\n",
        "  print(data)\n",
        "type(data)\n"
      ],
      "execution_count": 0,
      "outputs": [
        {
          "output_type": "stream",
          "text": [
            "{'userName': 'gillian begley', 'userImage': 'https://lh3.googleusercontent.com/a-/AOh14Gg9mVRu8LlhKRsn8eTqD2FaPGvWVt1QMC31CFUb', 'content': \"The game DOES suffer some glitches and issues here and there- BUT, nothing too major (that's all I have to say about the functionality) The game it's self is one of the best things I've ever taken the time to download, honestly. It's obvious that a lot of time and care has gone into the whole thing from the very beginning, and I think it's really done a lot to bring people and communities together in a real special way. Pokemon Go is, in my opinion, an absolute gift <3\", 'score': 5, 'thumbsUpCount': 402, 'reviewCreatedVersion': '0.171.3', 'at': datetime.datetime(2020, 4, 7, 2, 39, 29), 'replyContent': None, 'repliedAt': None}\n",
            "{'userName': 'Jordan Sales', 'userImage': 'https://lh3.googleusercontent.com/a-/AOh14Gh2L69cbaVMsyIcu3Dl-Xg02s-NO0uSH_bO9bVl', 'content': \"It's grown into what I should've been to begin with. There's so much more to do compared to the initial release, 5 gens of Pokémon so far with more being released in events and as time goes by. Tons of challenges, raids, ways to battle both pve and PvP. While the trading still sucks most of the friend features are great. For someone beginning, believe me, you've got a lot to catch up on, no pun intended.\", 'score': 5, 'thumbsUpCount': 59, 'reviewCreatedVersion': '0.171.3', 'at': datetime.datetime(2020, 4, 7, 3, 11, 57), 'replyContent': None, 'repliedAt': None}\n",
            "{'userName': 'Flib666', 'userImage': 'https://lh3.googleusercontent.com/a-/AOh14GhoU96dxq6Hoznr9GKMubxTMxR355jifiOf_J5UPw', 'content': \"Pretty good! I play this pretty much everyday and i have alot of fun doing so! Its a shame it takes up so much battery and space on your phone. One of my friends has this on their phone but it's really slow and wont work very well :( i do wish that you could refund clothes etc. and get your pokécoins back, and that storage was a little bit cheaper. Other than that (and some other smaller details) i really recommend this game!\", 'score': 4, 'thumbsUpCount': 153, 'reviewCreatedVersion': '0.171.3', 'at': datetime.datetime(2020, 4, 6, 21, 46, 40), 'replyContent': None, 'repliedAt': None}\n"
          ],
          "name": "stdout"
        },
        {
          "output_type": "execute_result",
          "data": {
            "text/plain": [
              "dict"
            ]
          },
          "metadata": {
            "tags": []
          },
          "execution_count": 3
        }
      ]
    },
    {
      "cell_type": "code",
      "metadata": {
        "id": "hhcru0bhIvBh",
        "colab_type": "code",
        "colab": {}
      },
      "source": [
        ""
      ],
      "execution_count": 0,
      "outputs": []
    },
    {
      "cell_type": "code",
      "metadata": {
        "id": "LtekpwYE8WdN",
        "colab_type": "code",
        "outputId": "b56b8bce-6650-4e23-f913-592ea13deca0",
        "colab": {
          "base_uri": "https://localhost:8080/",
          "height": 1000
        }
      },
      "source": [
        "# import pandas as pd\n",
        "# df=pd.DataFrame() \n",
        "for key ,value in enumerate(data):\n",
        "  \n",
        "   for key, value in data.items():\n",
        "      \n",
        "      \n",
        "      print (key, value)\n",
        "      \n",
        "      "
      ],
      "execution_count": 0,
      "outputs": [
        {
          "output_type": "stream",
          "text": [
            "userName Flib666\n",
            "userImage https://lh3.googleusercontent.com/a-/AOh14GhoU96dxq6Hoznr9GKMubxTMxR355jifiOf_J5UPw\n",
            "content Pretty good! I play this pretty much everyday and i have alot of fun doing so! Its a shame it takes up so much battery and space on your phone. One of my friends has this on their phone but it's really slow and wont work very well :( i do wish that you could refund clothes etc. and get your pokécoins back, and that storage was a little bit cheaper. Other than that (and some other smaller details) i really recommend this game!\n",
            "score 4\n",
            "thumbsUpCount 153\n",
            "reviewCreatedVersion 0.171.3\n",
            "at 2020-04-06 21:46:40\n",
            "replyContent None\n",
            "repliedAt None\n",
            "userName Flib666\n",
            "userImage https://lh3.googleusercontent.com/a-/AOh14GhoU96dxq6Hoznr9GKMubxTMxR355jifiOf_J5UPw\n",
            "content Pretty good! I play this pretty much everyday and i have alot of fun doing so! Its a shame it takes up so much battery and space on your phone. One of my friends has this on their phone but it's really slow and wont work very well :( i do wish that you could refund clothes etc. and get your pokécoins back, and that storage was a little bit cheaper. Other than that (and some other smaller details) i really recommend this game!\n",
            "score 4\n",
            "thumbsUpCount 153\n",
            "reviewCreatedVersion 0.171.3\n",
            "at 2020-04-06 21:46:40\n",
            "replyContent None\n",
            "repliedAt None\n",
            "userName Flib666\n",
            "userImage https://lh3.googleusercontent.com/a-/AOh14GhoU96dxq6Hoznr9GKMubxTMxR355jifiOf_J5UPw\n",
            "content Pretty good! I play this pretty much everyday and i have alot of fun doing so! Its a shame it takes up so much battery and space on your phone. One of my friends has this on their phone but it's really slow and wont work very well :( i do wish that you could refund clothes etc. and get your pokécoins back, and that storage was a little bit cheaper. Other than that (and some other smaller details) i really recommend this game!\n",
            "score 4\n",
            "thumbsUpCount 153\n",
            "reviewCreatedVersion 0.171.3\n",
            "at 2020-04-06 21:46:40\n",
            "replyContent None\n",
            "repliedAt None\n",
            "userName Flib666\n",
            "userImage https://lh3.googleusercontent.com/a-/AOh14GhoU96dxq6Hoznr9GKMubxTMxR355jifiOf_J5UPw\n",
            "content Pretty good! I play this pretty much everyday and i have alot of fun doing so! Its a shame it takes up so much battery and space on your phone. One of my friends has this on their phone but it's really slow and wont work very well :( i do wish that you could refund clothes etc. and get your pokécoins back, and that storage was a little bit cheaper. Other than that (and some other smaller details) i really recommend this game!\n",
            "score 4\n",
            "thumbsUpCount 153\n",
            "reviewCreatedVersion 0.171.3\n",
            "at 2020-04-06 21:46:40\n",
            "replyContent None\n",
            "repliedAt None\n",
            "userName Flib666\n",
            "userImage https://lh3.googleusercontent.com/a-/AOh14GhoU96dxq6Hoznr9GKMubxTMxR355jifiOf_J5UPw\n",
            "content Pretty good! I play this pretty much everyday and i have alot of fun doing so! Its a shame it takes up so much battery and space on your phone. One of my friends has this on their phone but it's really slow and wont work very well :( i do wish that you could refund clothes etc. and get your pokécoins back, and that storage was a little bit cheaper. Other than that (and some other smaller details) i really recommend this game!\n",
            "score 4\n",
            "thumbsUpCount 153\n",
            "reviewCreatedVersion 0.171.3\n",
            "at 2020-04-06 21:46:40\n",
            "replyContent None\n",
            "repliedAt None\n",
            "userName Flib666\n",
            "userImage https://lh3.googleusercontent.com/a-/AOh14GhoU96dxq6Hoznr9GKMubxTMxR355jifiOf_J5UPw\n",
            "content Pretty good! I play this pretty much everyday and i have alot of fun doing so! Its a shame it takes up so much battery and space on your phone. One of my friends has this on their phone but it's really slow and wont work very well :( i do wish that you could refund clothes etc. and get your pokécoins back, and that storage was a little bit cheaper. Other than that (and some other smaller details) i really recommend this game!\n",
            "score 4\n",
            "thumbsUpCount 153\n",
            "reviewCreatedVersion 0.171.3\n",
            "at 2020-04-06 21:46:40\n",
            "replyContent None\n",
            "repliedAt None\n",
            "userName Flib666\n",
            "userImage https://lh3.googleusercontent.com/a-/AOh14GhoU96dxq6Hoznr9GKMubxTMxR355jifiOf_J5UPw\n",
            "content Pretty good! I play this pretty much everyday and i have alot of fun doing so! Its a shame it takes up so much battery and space on your phone. One of my friends has this on their phone but it's really slow and wont work very well :( i do wish that you could refund clothes etc. and get your pokécoins back, and that storage was a little bit cheaper. Other than that (and some other smaller details) i really recommend this game!\n",
            "score 4\n",
            "thumbsUpCount 153\n",
            "reviewCreatedVersion 0.171.3\n",
            "at 2020-04-06 21:46:40\n",
            "replyContent None\n",
            "repliedAt None\n",
            "userName Flib666\n",
            "userImage https://lh3.googleusercontent.com/a-/AOh14GhoU96dxq6Hoznr9GKMubxTMxR355jifiOf_J5UPw\n",
            "content Pretty good! I play this pretty much everyday and i have alot of fun doing so! Its a shame it takes up so much battery and space on your phone. One of my friends has this on their phone but it's really slow and wont work very well :( i do wish that you could refund clothes etc. and get your pokécoins back, and that storage was a little bit cheaper. Other than that (and some other smaller details) i really recommend this game!\n",
            "score 4\n",
            "thumbsUpCount 153\n",
            "reviewCreatedVersion 0.171.3\n",
            "at 2020-04-06 21:46:40\n",
            "replyContent None\n",
            "repliedAt None\n",
            "userName Flib666\n",
            "userImage https://lh3.googleusercontent.com/a-/AOh14GhoU96dxq6Hoznr9GKMubxTMxR355jifiOf_J5UPw\n",
            "content Pretty good! I play this pretty much everyday and i have alot of fun doing so! Its a shame it takes up so much battery and space on your phone. One of my friends has this on their phone but it's really slow and wont work very well :( i do wish that you could refund clothes etc. and get your pokécoins back, and that storage was a little bit cheaper. Other than that (and some other smaller details) i really recommend this game!\n",
            "score 4\n",
            "thumbsUpCount 153\n",
            "reviewCreatedVersion 0.171.3\n",
            "at 2020-04-06 21:46:40\n",
            "replyContent None\n",
            "repliedAt None\n"
          ],
          "name": "stdout"
        }
      ]
    },
    {
      "cell_type": "code",
      "metadata": {
        "id": "pmdmKRQu-2KJ",
        "colab_type": "code",
        "outputId": "36d04349-1fed-4b00-bcfc-cbb987b58524",
        "colab": {
          "base_uri": "https://localhost:8080/",
          "height": 309
        }
      },
      "source": [
        "!pip install google-play-scraper\n",
        "from google_play_scraper import Sort, reviews\n",
        "import pandas as pd\n",
        "\n",
        "result = reviews(\n",
        "    'com.nianticlabs.pokemongo',\n",
        "    lang='en', # defaults to 'en'\n",
        "    country='us', # defaults to 'us'\n",
        "    sort=Sort.MOST_RELEVANT, # defaults to Sort.MOST_RELEVANT\n",
        "    count=3, # defaults to 100\n",
        ")\n",
        "result = pd.DataFrame(result)\n",
        "\n",
        "print(result)\n",
        "\n"
      ],
      "execution_count": 0,
      "outputs": [
        {
          "output_type": "stream",
          "text": [
            "Collecting google-play-scraper\n",
            "\u001b[?25l  Downloading https://files.pythonhosted.org/packages/cb/89/bc7279683a9224dc4239dc642a6cf2ce8a103d7f27a2ab69a8311d391777/google-play-scraper-0.0.2.2.tar.gz (42kB)\n",
            "\r\u001b[K     |███████▋                        | 10kB 17.8MB/s eta 0:00:01\r\u001b[K     |███████████████▎                | 20kB 1.8MB/s eta 0:00:01\r\u001b[K     |███████████████████████         | 30kB 2.3MB/s eta 0:00:01\r\u001b[K     |██████████████████████████████▋ | 40kB 1.7MB/s eta 0:00:01\r\u001b[K     |████████████████████████████████| 51kB 1.7MB/s \n",
            "\u001b[?25hBuilding wheels for collected packages: google-play-scraper\n",
            "  Building wheel for google-play-scraper (setup.py) ... \u001b[?25l\u001b[?25hdone\n",
            "  Created wheel for google-play-scraper: filename=google_play_scraper-0.0.2.2-cp36-none-any.whl size=20150 sha256=a2ed78c57f708feafe6e3ba61f7711b9658a1e154254ddb3a4852cb476bbd612\n",
            "  Stored in directory: /root/.cache/pip/wheels/60/ea/76/4d334df912fc389dbf6e9932eff3c01334a3f49500129b9fc7\n",
            "Successfully built google-play-scraper\n",
            "Installing collected packages: google-play-scraper\n",
            "Successfully installed google-play-scraper-0.0.2.2\n",
            "          userName  ... repliedAt\n",
            "0  Psychotrain 410  ...      None\n",
            "1  Danielle Fourie  ...      None\n",
            "2     Maddie Lance  ...      None\n",
            "\n",
            "[3 rows x 9 columns]\n"
          ],
          "name": "stdout"
        }
      ]
    },
    {
      "cell_type": "code",
      "metadata": {
        "id": "T51uQS5X_SjN",
        "colab_type": "code",
        "outputId": "61c86b81-0bd8-45be-c305-def1faf74ed0",
        "colab": {
          "base_uri": "https://localhost:8080/",
          "height": 193
        }
      },
      "source": [
        "result.head( )"
      ],
      "execution_count": 0,
      "outputs": [
        {
          "output_type": "execute_result",
          "data": {
            "text/html": [
              "<div>\n",
              "<style scoped>\n",
              "    .dataframe tbody tr th:only-of-type {\n",
              "        vertical-align: middle;\n",
              "    }\n",
              "\n",
              "    .dataframe tbody tr th {\n",
              "        vertical-align: top;\n",
              "    }\n",
              "\n",
              "    .dataframe thead th {\n",
              "        text-align: right;\n",
              "    }\n",
              "</style>\n",
              "<table border=\"1\" class=\"dataframe\">\n",
              "  <thead>\n",
              "    <tr style=\"text-align: right;\">\n",
              "      <th></th>\n",
              "      <th>userName</th>\n",
              "      <th>userImage</th>\n",
              "      <th>content</th>\n",
              "      <th>score</th>\n",
              "      <th>thumbsUpCount</th>\n",
              "      <th>reviewCreatedVersion</th>\n",
              "      <th>at</th>\n",
              "      <th>replyContent</th>\n",
              "      <th>repliedAt</th>\n",
              "    </tr>\n",
              "  </thead>\n",
              "  <tbody>\n",
              "    <tr>\n",
              "      <th>0</th>\n",
              "      <td>Psychotrain 410</td>\n",
              "      <td>https://lh3.googleusercontent.com/-AYkE8bMARZk...</td>\n",
              "      <td>I have had this account since Pokemon go first...</td>\n",
              "      <td>2</td>\n",
              "      <td>107</td>\n",
              "      <td>0.171.3</td>\n",
              "      <td>2020-04-08 08:53:48</td>\n",
              "      <td>None</td>\n",
              "      <td>None</td>\n",
              "    </tr>\n",
              "    <tr>\n",
              "      <th>1</th>\n",
              "      <td>Danielle Fourie</td>\n",
              "      <td>https://lh3.googleusercontent.com/-wFahzlH9asY...</td>\n",
              "      <td>I love this game but the \"Battles\" are rigged....</td>\n",
              "      <td>2</td>\n",
              "      <td>117</td>\n",
              "      <td>0.169.3</td>\n",
              "      <td>2020-04-03 16:13:29</td>\n",
              "      <td>None</td>\n",
              "      <td>None</td>\n",
              "    </tr>\n",
              "    <tr>\n",
              "      <th>2</th>\n",
              "      <td>Maddie Lance</td>\n",
              "      <td>https://lh3.googleusercontent.com/-uCDHHvlHRLU...</td>\n",
              "      <td>Ever since the update, my game has been doing ...</td>\n",
              "      <td>3</td>\n",
              "      <td>98</td>\n",
              "      <td>0.171.0</td>\n",
              "      <td>2020-04-01 01:33:00</td>\n",
              "      <td>None</td>\n",
              "      <td>None</td>\n",
              "    </tr>\n",
              "  </tbody>\n",
              "</table>\n",
              "</div>"
            ],
            "text/plain": [
              "          userName  ... repliedAt\n",
              "0  Psychotrain 410  ...      None\n",
              "1  Danielle Fourie  ...      None\n",
              "2     Maddie Lance  ...      None\n",
              "\n",
              "[3 rows x 9 columns]"
            ]
          },
          "metadata": {
            "tags": []
          },
          "execution_count": 2
        }
      ]
    },
    {
      "cell_type": "code",
      "metadata": {
        "id": "75Sn2LkBwoJr",
        "colab_type": "code",
        "outputId": "c86090fe-9dac-4733-b6d8-e9fba31fef84",
        "colab": {
          "base_uri": "https://localhost:8080/",
          "height": 34
        }
      },
      "source": [
        "full_name=lambda fn,ln : fn.strip().title() + \" \" + ln.strip().title()\n",
        "\n",
        "full_name('amit','naik')\n",
        "\n",
        "\n",
        "scifu_=figa.sort(key=lambda name : name.split(\" \")[-1].lower() )"
      ],
      "execution_count": 0,
      "outputs": [
        {
          "output_type": "execute_result",
          "data": {
            "text/plain": [
              "'Amit Naik'"
            ]
          },
          "metadata": {
            "tags": []
          },
          "execution_count": 1
        }
      ]
    }
  ]
}