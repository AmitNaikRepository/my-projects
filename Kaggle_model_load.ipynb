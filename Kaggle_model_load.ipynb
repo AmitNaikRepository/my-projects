{
  "nbformat": 4,
  "nbformat_minor": 0,
  "metadata": {
    "kernelspec": {
      "display_name": "Python [conda env:python3.7_TF2.0]",
      "language": "python",
      "name": "conda-env-python3.7_TF2.0-py"
    },
    "language_info": {
      "codemirror_mode": {
        "name": "ipython",
        "version": 3
      },
      "file_extension": ".py",
      "mimetype": "text/x-python",
      "name": "python",
      "nbconvert_exporter": "python",
      "pygments_lexer": "ipython3",
      "version": "3.7.3"
    },
    "colab": {
      "name": "Kaggle_model_load.ipynb",
      "provenance": [],
      "collapsed_sections": [],
      "include_colab_link": true
    }
  },
  "cells": [
    {
      "cell_type": "markdown",
      "metadata": {
        "id": "view-in-github",
        "colab_type": "text"
      },
      "source": [
        "<a href=\"https://colab.research.google.com/github/AmitNaikRepository/my-projects/blob/master/Kaggle_model_load.ipynb\" target=\"_parent\"><img src=\"https://colab.research.google.com/assets/colab-badge.svg\" alt=\"Open In Colab\"/></a>"
      ]
    },
    {
      "cell_type": "code",
      "metadata": {
        "id": "I5XnudpmdFpf",
        "colab_type": "code",
        "colab": {}
      },
      "source": [
        "import os \n",
        "import shutil \n",
        "import numpy as np \n",
        "import pandas as od \n",
        "from sklearn.model_selection import StratifiedKFold "
      ],
      "execution_count": 3,
      "outputs": []
    },
    {
      "cell_type": "code",
      "metadata": {
        "id": "0wqiGbDROip8",
        "colab_type": "code",
        "colab": {}
      },
      "source": [
        "NFOLDS=5\n",
        "RANDOM_STATE=42\n"
      ],
      "execution_count": null,
      "outputs": []
    },
    {
      "cell_type": "code",
      "metadata": {
        "id": "7pLMQxvROifw",
        "colab_type": "code",
        "colab": {}
      },
      "source": [
        "script_name=os.path.basename(__file__).split('.')[0]\n",
        "MODEL_NAME=\"{}__folds{1}\".format(script_name,NFOLDS)\n",
        "\n",
        "print (\"model:{}\".format(MODEL_NAME))\n",
        "\n",
        "print(\"now reading the training data\")\n",
        "\n",
        "train=pd.read_csv(\"../input/train.csv\")\n",
        "test=pd.read_csv(\"../input/test.csv\")\n",
        "\n",
        "\n",
        "y=train.target.values\n",
        "train_ids=train.ID_code.values\n",
        "train=train.drop(['ID_code','target'], axis=1)\n",
        "feature_lsit=train.columns \n",
        "\n",
        "test_ids=test.test.ID_code.values\n",
        "test=test[feature_list]\n",
        "\n",
        "\n",
        "X=train.values.astype(float)\n",
        "X_test=test.values.astype(float)\n",
        "\n",
        "\n",
        "clfs=[]\n",
        "\n",
        "folds=StratifiedKFold(n_splits=NFOLDS,shuffle=True,random_state=RANDOM_STATE,\n",
        "                      oof_preds=np.zeros((len(train),1))\n",
        "                      test_preds=np.zeros((len(test),1))\n",
        "                      )\n",
        "\n",
        "for fold_ ,(trn_,val_) in enumurate (folds.split(y,y)):\n",
        "  print(\"current fold :{}\".format(fold_))\n",
        "  trn_x,trn_y=X[trn_, :],y[trn_]\n",
        "  valx,val_y=X[val_,:],y[val_]\n",
        "  clf=DEFINE MODEL HERE \n",
        "\n",
        "  FIT MODEL HERE\n",
        "\n",
        "  val_pred=GENERATE PREDICTION FOR VALIDATION DATA\n",
        "  test_fold_pred=GENERATE PREDICTION FOR TEST DATA\n",
        "\n",
        "\n",
        "  print(\"AUC={}\".format(metrics.roc_auc_score(val_y,val_pred)))\n",
        "                        oof_preds[val_,:]=val_pred.reshape((-1,1))\n",
        "                        test_preds+=test_fold_pred.reshape((-1,1))\n",
        "\n",
        "\n",
        "roc_score metrics.roc_auc_score(y,oof_preds.ravel())\n",
        "print(\"overall auc={}\".format(roc_score))\n",
        "\n",
        "\n",
        "\n",
        "print(\"saving oof predictions\")\n",
        "oof_preds=pd.DataFrame(np.colum_stack((train_ids,oof_preds.ravel())),columns=['ID_code','target'])\n",
        "oof_preds.to_csv('../k_folds/{}__{}.csv'.format(MODEL_NAME,str(roc_score))))\n",
        "\n",
        "print(\"saving submission file\")\n",
        "sample=pd.read_csv('../input/sample_submission.csv')\n",
        "sample.target=test_preds.astype(float)\n",
        "sample.ID_code=test_ids\n",
        "sample.to_csv('../model_prediction/submission_{}__{}.csv'.format(MODEL_NAME,str(roc_score)),index=False)\n"
      ],
      "execution_count": null,
      "outputs": []
    }
  ]
}